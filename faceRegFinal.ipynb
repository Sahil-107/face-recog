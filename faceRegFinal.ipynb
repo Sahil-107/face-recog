{
 "cells": [
  {
   "cell_type": "code",
   "execution_count": 1,
   "id": "a8b1fe1b",
   "metadata": {},
   "outputs": [],
   "source": [
    "#Importing Libraries:-\n",
    "import cv2\n",
    "import numpy as np\n",
    "import webbrowser\n",
    "import pyautogui\n",
    "import time\n",
    "from os import listdir\n",
    "from os.path import isfile, join\n",
    "import os"
   ]
  },
  {
   "cell_type": "code",
   "execution_count": 2,
   "id": "946647c4",
   "metadata": {},
   "outputs": [],
   "source": [
    "#Loading Haarcascade Face Classifier\n",
    "face_classifier = cv2.CascadeClassifier('haarcascade_frontalface_default.xml')"
   ]
  },
  {
   "cell_type": "code",
   "execution_count": 4,
   "id": "afc69bc3",
   "metadata": {},
   "outputs": [
    {
     "name": "stdout",
     "output_type": "stream",
     "text": [
      "\n"
     ]
    }
   ],
   "source": [
    "#Program for sending Whatsapp Message:-\n",
    "def sendingWhatsappMsg():\n",
    "    webbrowser.open(\"https://web.whatsapp.com/\")\n",
    "    time.sleep(10)\n",
    "    pyautogui.click(207,258)\n",
    "    pyautogui.typewrite(\"vibhanshu\")\n",
    "    time.sleep(5)\n",
    "    pyautogui.click(215,447)\n",
    "    time.sleep(5)\n",
    "    pyautogui.click(1153,987)\n",
    "    pyautogui.typewrite(\"Somebody looked into the computer\")\n",
    "    time.sleep(2)\n",
    "    pyautogui.press('enter')"
   ]
  },
  {
   "cell_type": "code",
   "execution_count": 5,
   "id": "627771be",
   "metadata": {},
   "outputs": [],
   "source": [
    "#Program for sending Email:-\n",
    "def sendingMail():\n",
    "    webbrowser.open(\"https://mail.google.com/mail/u/0/#inbox\")\n",
    "    time.sleep(15)\n",
    "    pyautogui.click(148,275)\n",
    "    time.sleep(5)\n",
    "    pyautogui.typewrite(\"vibhanshusharma13@gmail.com\")\n",
    "    time.sleep(2)\n",
    "    pyautogui.press('tab')\n",
    "    pyautogui.press('tab')\n",
    "    pyautogui.typewrite(\"Somebody looked into the computer\")\n",
    "    time.sleep(2)\n",
    "    pyautogui.press('tab')\n",
    "    pyautogui.typewrite(\"Somebody looked into the computer\")\n",
    "    time.sleep(5)\n",
    "    pyautogui.click(1148,993)"
   ]
  },
  {
   "cell_type": "code",
   "execution_count": null,
   "id": "42e77e8c",
   "metadata": {},
   "outputs": [],
   "source": [
    "#Launching EC2 instance in AWS:-\n",
    "def ec2launch:\n",
    "    os.system(\"aws ec2 run-instances --image-id ami-0e306788ff2473ccb --instance-type t2.micro --count 1 --subnet-id subnet-76a4dd3a --key-name task3 --security-group-ids sg-0475e79b6a3f14d6c --block-device-mappings \\\"file://C:\\Users\\Sahil Negi\\Desktop\\mapping.json\\\"\n",
    "\")"
   ]
  },
  {
   "cell_type": "code",
   "execution_count": null,
   "id": "57c4025e",
   "metadata": {},
   "outputs": [],
   "source": [
    "#Face Extractor\n",
    "def face_extractor(img):\n",
    "    # Function detects faces and returns the cropped face\n",
    "    # If no face detected, it returns the input image\n",
    "    gray = cv2.cvtColor(img,cv2.COLOR_BGR2GRAY)\n",
    "    faces = face_classifier.detectMultiScale(gray, 1.3, 5)\n",
    "    if faces is ():\n",
    "        return None\n",
    "    # Crop all faces found\n",
    "    for (x,y,w,h) in faces:\n",
    "        cropped_face = img[y:y+h, x:x+w]\n",
    "    return cropped_face"
   ]
  },
  {
   "cell_type": "code",
   "execution_count": 7,
   "id": "4ef4c5eb",
   "metadata": {},
   "outputs": [],
   "source": [
    "#Initialize Webcam and Count for Photos:-\n",
    "cap = cv2.VideoCapture(0)\n",
    "count = 0"
   ]
  },
  {
   "cell_type": "code",
   "execution_count": null,
   "id": "2dcbe2e9",
   "metadata": {},
   "outputs": [],
   "source": [
    "# Collect 1000 samples of your face from webcam input\n",
    "while True:\n",
    "    ret, frame = cap.read()\n",
    "    if face_extractor(frame) is not None:\n",
    "        count += 1\n",
    "        face = cv2.resize(face_extractor(frame), (200, 200))\n",
    "        face = cv2.cvtColor(face, cv2.COLOR_BGR2GRAY)\n",
    "        #Save file in specified directory with unique name\n",
    "        file_name_path = './faces/sahil/' + str(count) + '.jpg'\n",
    "        cv2.imwrite(file_name_path, face)\n",
    "        #Put count on images and display live count\n",
    "        cv2.putText(face, str(count), (50, 50), cv2.FONT_HERSHEY_COMPLEX, 1, (0,255,0), 2)\n",
    "        cv2.imshow('Face Cropper', face)\n",
    "    else:\n",
    "        print(\"Face not found\")\n",
    "        pass\n",
    "    if cv2.waitKey(1) == 13 or count == 1000: #13 is the Enter Key\n",
    "        break       \n",
    "cap.release()\n",
    "cv2.destroyAllWindows()      \n",
    "print(\"Collecting Samples Complete\")"
   ]
  },
  {
   "cell_type": "code",
   "execution_count": null,
   "id": "0cedbfc0",
   "metadata": {},
   "outputs": [],
   "source": [
    "#Train Model For Vibhanshu (Friend) face:-\n",
    "#Get the training data we previously made\n",
    "data_path = './faces/vibhanshu/'\n",
    "onlyfiles = [f for f in listdir(data_path) if isfile(join(data_path, f))]\n",
    "\n",
    "#Create arrays for training data and labels\n",
    "Training_Data, Labels = [], []\n",
    "\n",
    "#Creating a numpy array for training data\n",
    "for i, files in enumerate(onlyfiles):\n",
    "    image_path = data_path + onlyfiles[i]\n",
    "    images = cv2.imread(image_path, cv2.IMREAD_GRAYSCALE)\n",
    "    Training_Data.append(np.asarray(images, dtype=np.uint8))\n",
    "    Labels.append(i)\n",
    "\n",
    "# Create a numpy array for both training data and labels\n",
    "Labels = np.asarray(Labels, dtype=np.int32)\n",
    "\n",
    "# Initialize facial recognizer\n",
    "vibhanshu_model  = cv2.face_LBPHFaceRecognizer.create()\n",
    "# Let's train our model \n",
    "vibhanshu_model.train(np.asarray(Training_Data), np.asarray(Labels))\n",
    "print(\"Model trained sucessefully\")"
   ]
  },
  {
   "cell_type": "code",
   "execution_count": null,
   "id": "57826c78",
   "metadata": {},
   "outputs": [],
   "source": [
    "#Train Model For Sahil (Friend) face:-\n",
    "#Get the training data we previously made\n",
    "data_path = './faces/Sahil/'\n",
    "onlyfiles = [f for f in listdir(data_path) if isfile(join(data_path, f))]\n",
    "\n",
    "#Create arrays for training data and labels\n",
    "Training_Data, Labels = [], []\n",
    "\n",
    "#Creating a numpy array for training data\n",
    "for i, files in enumerate(onlyfiles):\n",
    "    image_path = data_path + onlyfiles[i]\n",
    "    images = cv2.imread(image_path, cv2.IMREAD_GRAYSCALE)\n",
    "    Training_Data.append(np.asarray(images, dtype=np.uint8))\n",
    "    Labels.append(i)\n",
    "\n",
    "# Create a numpy array for both training data and labels\n",
    "Labels = np.asarray(Labels, dtype=np.int32)\n",
    "\n",
    "# Initialize facial recognizer\n",
    "sahil_model  = cv2.face_LBPHFaceRecognizer.create()\n",
    "# Let's train our model \n",
    "sahil_model.train(np.asarray(Training_Data), np.asarray(Labels))\n",
    "print(\"Model trained sucessefully\")"
   ]
  },
  {
   "cell_type": "code",
   "execution_count": null,
   "id": "c5e3470a",
   "metadata": {},
   "outputs": [],
   "source": [
    "#To save the created models:-\n",
    "#To save Sahil's model\n",
    "sahil_model.save(\"sahilModel1\")\n",
    "\n",
    "#To save Vibhanshu's model\n",
    "vibhanshu_model.save(\"vibhanshuModel1\")"
   ]
  },
  {
   "cell_type": "code",
   "execution_count": null,
   "id": "4e273a68",
   "metadata": {},
   "outputs": [],
   "source": [
    "#If you have already created the model:-\n",
    "#Initializing Sahil's model\n",
    "sahil_model  = cv2.face_LBPHFaceRecognizer.create()\n",
    "sahil_model.read(\"sahilmodel1\")\n",
    "\n",
    "#Initializing Vibhanshu's model\n",
    "vibhanshu_model = cv2.face_LBPHFaceRecognizer.create()\n",
    "vibhanshu_model.read(\"vibhanshuModel1\")"
   ]
  },
  {
   "cell_type": "code",
   "execution_count": null,
   "id": "32defce6",
   "metadata": {},
   "outputs": [],
   "source": [
    "# Running Our Facial Recognition:-\n",
    "def face_detector(img, size=0.5): \n",
    "    # Convert image to grayscale\n",
    "    gray = cv2.cvtColor(img,cv2.COLOR_BGR2GRAY)\n",
    "    faces = face_classifier.detectMultiScale(gray, 1.3, 5)\n",
    "    if faces is ():\n",
    "        return img, []\n",
    "    for (x,y,w,h) in faces:\n",
    "        cv2.rectangle(img,(x,y),(x+w,y+h),(0,255,255),2)\n",
    "        roi = img[y:y+h, x:x+w]\n",
    "        roi = cv2.resize(roi, (200, 200))\n",
    "    return img, roi\n",
    "\n",
    "# Open Webcam\n",
    "cap = cv2.VideoCapture(0)\n",
    "while True:\n",
    "    ret, frame = cap.read()\n",
    "    image, face = face_detector(frame)\n",
    "    try:\n",
    "        face = cv2.cvtColor(face, cv2.COLOR_BGR2GRAY)\n",
    "        # Pass face to prediction model\n",
    "        # \"results_v and results_s\" comprises of a tuple containing the label and the confidence value\n",
    "        results_v = vibhanshu_model.predict(face)\n",
    "        results_s = sahil_model.predict(face)\n",
    "            \n",
    "        # Finding Confidence for Vibhanshu's model:-    \n",
    "        if results_v[1] < 500:\n",
    "            confidence_v = int( 100 * (1 - (results_v[1])/400) )\n",
    "            \n",
    "        # If the confidence of Vibhanshu's face is greater than 85% then then program will send msg to the Vibhanshu in Whatsapp and in Gmail\n",
    "        if confidence_v > 85:\n",
    "            cv2.putText(image, \"Hey vibhanshu\", (250, 450), cv2.FONT_HERSHEY_COMPLEX, 1, (0,255,0), 2)\n",
    "            cv2.imshow('Face Recognition', image )\n",
    "            sendingWhatsappMsg()\n",
    "            time.sleep(60)\n",
    "            sendingMail()\n",
    "        \n",
    "        # Finding Confidence for Sahil's model:-   \n",
    "        if results_s[1] < 500 :\n",
    "            confidence_s = int( 100 * (1 - (results_s[1])/400) )\n",
    "        \n",
    "        # If the confidence of Sahil's face is greater than 85% then it will launch ec2 instance in AWS with 1GB EBS\n",
    "        if confidence_s > 85:\n",
    "            cv2.putText(image, \"Hey Sahil\", (250, 450), cv2.FONT_HERSHEY_COMPLEX, 1, (0,255,0), 2)\n",
    "            cv2.imshow('Face Recognition', image )\n",
    "            ec2launch()\n",
    "            \n",
    "        else:\n",
    "            cv2.imshow('Face Recognition', image )\n",
    "\n",
    "    except:\n",
    "        cv2.imshow('Face Recognition', image )\n",
    "        pass\n",
    "        \n",
    "    if cv2.waitKey(1) == 13: #13 is the Enter Key\n",
    "        break\n",
    "        \n",
    "cap.release()\n",
    "cv2.destroyAllWindows()   "
   ]
  }
 ],
 "metadata": {
  "kernelspec": {
   "display_name": "Python 3",
   "language": "python",
   "name": "python3"
  },
  "language_info": {
   "codemirror_mode": {
    "name": "ipython",
    "version": 3
   },
   "file_extension": ".py",
   "mimetype": "text/x-python",
   "name": "python",
   "nbconvert_exporter": "python",
   "pygments_lexer": "ipython3",
   "version": "3.9.0"
  }
 },
 "nbformat": 4,
 "nbformat_minor": 5
}
